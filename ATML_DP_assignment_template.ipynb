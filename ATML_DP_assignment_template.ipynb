{
  "nbformat": 4,
  "nbformat_minor": 0,
  "metadata": {
    "colab": {
      "provenance": []
    },
    "kernelspec": {
      "name": "python3",
      "display_name": "Python 3"
    },
    "language_info": {
      "name": "python"
    }
  },
  "cells": [
    {
      "cell_type": "markdown",
      "source": [
        "# Code template for hand-in on reconstruction attacks.\n",
        "\n",
        "Advanced Topics in Machine Learning, U. Copenhagen, fall 2025\n",
        "\n",
        "Created by Rasmus Pagh with minor edits by Thomas Christensen\n",
        "\n",
        "Queries on a hidden dataset x from {-1,+1}^256 can be made via the query method below\n",
        "which calls a web API that allows dot product queries with vectors in {-1,+1}^256.\n",
        "To protect data, Laplace noise is added to responses. Using the techniques you have\n",
        "seen in the lecture it is possible to partially reconstruct the dataset using 512 queries.\n",
        "To make sure that you get a unique challenge, choose any unique string as your challenge\n",
        "identifier. The web API will keep track of the number of queries made for each identifier."
      ],
      "metadata": {
        "id": "0gptEv_UkLPf"
      }
    },
    {
      "cell_type": "code",
      "source": [],
      "metadata": {
        "id": "HnVGtjG2lo8H"
      },
      "execution_count": null,
      "outputs": []
    },
    {
      "cell_type": "markdown",
      "source": [
        "# Support function for querying the web API"
      ],
      "metadata": {
        "id": "dyLpL0gdnquz"
      }
    },
    {
      "cell_type": "code",
      "source": [
        "import numpy as np\n",
        "import requests as rq\n",
        "\n",
        "# Retrieve answer to challenge for a given query\n",
        "def query(challenge_id, query_vector, submit=False):\n",
        "    # Only alphanumeric challenge_id and vector entries in {-1,+1} are allowed:\n",
        "    assert(challenge_id.isalnum())\n",
        "    assert(np.max(np.minimum(np.abs(query_vector-1),np.abs(query_vector+1)))==0)\n",
        "\n",
        "    # if query array is 1d, make it 2d\n",
        "    if query_vector.ndim == 1:\n",
        "        query_vector = query_vector.reshape(1,-1)\n",
        "\n",
        "    payload = { 'challengeid': challenge_id, 'submit': submit,\n",
        "                'query': str(query_vector.tolist()) }\n",
        "    response = rq.post(\"https://rasmuspagh.pythonanywhere.com/query\", data = payload).json()\n",
        "    if submit == False:\n",
        "        return np.array(eval(response['result']))\n",
        "    else:\n",
        "        return response['result']"
      ],
      "metadata": {
        "id": "L1Mb8xGZkTPO"
      },
      "execution_count": null,
      "outputs": []
    },
    {
      "cell_type": "markdown",
      "source": [
        "# Making random queries to the API"
      ],
      "metadata": {
        "id": "mgh9MtPmnyEl"
      }
    },
    {
      "cell_type": "code",
      "execution_count": null,
      "metadata": {
        "id": "rACAhWmE9zkq",
        "colab": {
          "base_uri": "https://localhost:8080/"
        },
        "outputId": "41df0e48-8542-4e7b-abba-d9064f267fa4"
      },
      "outputs": [
        {
          "output_type": "stream",
          "name": "stdout",
          "text": [
            "[ -20.   34.    7.   16.   42.   11.  -39.   -0.   26.    3.   48.  -25.\n",
            "   18.   55.   42.   21.  157.   37.   13.    4.   20.   34.   -2.  -21.\n",
            "   -8.  -33.  -38.   51.  -15.  -58.  128.    6.  -29.   41.   66.   42.\n",
            "   16.   21.   38.  -36.   -0.   30.  -10.    5.  -46.  -20.  -51.   -8.\n",
            "   35.  -72.   72.  -18.  -78.   -6.   21.  -73.  -28.   -7.   75. -120.\n",
            "  -96.  -41.   -2.   -3.   28.  -13.  -18.   -6. -112.   34.   12.    3.\n",
            "   11.  105.    8.  -94.  -23.   75.   17.  -26.  -91.  -30.  -45.   -9.\n",
            "    6. -126.    3.    3.   50.   -1.   10.   -4.  -49.   23.  -95.  -86.\n",
            "    5.  118.  -12.  144.  -20. -121.    5.   19.  -74.  -45.   47.    3.\n",
            "   21.  -15.    2.  -28.   -5.   13.   35.   -4.  -15.  -39.  -75.   19.\n",
            "  -19.  -30.    7.   49.  -94.  -23.   -7.   23.   -8.  -34.   61.  -27.\n",
            "  200.   32.  -37.   20.   14.  -33.    2.  -23.  -40.  -29.   25.   16.\n",
            "  -30.  -43.   35.    9.   -9.  -21.   16.    2.  -30.   64.  -50.   20.\n",
            "   15.  -24.   20.  -19.  117.   32.  -34.   -2.  -21.   16.  -55.   15.\n",
            "    8.  -38.   61.  -35.  -16.   71.  -16.  -80.  -20.    6.   38.  -61.\n",
            "    2.    8.  -17.   -8.   22.  -36.  -49.   15.   11.   18.   98.    2.\n",
            "  -54.  -29.  -15.   -3.   -4.  -43.  -13.   63.   39.  -58.    8.   28.\n",
            "   23.  -57.  -60.  -65.   13.  -24.    3.  -18.   -1.  -47.   52.  -13.\n",
            "  -13.  -20.  -38.   11.   15.   46.  -52.   -1.  -35.   31.  -16.   -2.\n",
            "   35.   16.  -25.  -27.   22.   -9.   10.   23.   11.   81.   26.   20.\n",
            "   29.   -2.   59.  -26.   -1.   -4.   -3.   19.   50.  -67.    5.   17.\n",
            "   32.   49.   28.  -41.   23.   26.  -31.  -42.  -58.  -27.    1.  -27.\n",
            "    6.    8.   23.   -6.   29. -136.   25.    7.  -10.    5.   12.    4.\n",
            "  -30.  -60.  -76.  -44.  -34.   -8.  -42.   31.    9.  -20.   -1.  -10.\n",
            "  -62.   18.   -1.  -61.    2.    4. -117.  -78.   -5.   50.   27.   -1.\n",
            "  -54.   -7.  -39.  -45.   74.   62.  -23.  -37.  -29.   -3.  -65.   79.\n",
            "  -41.  -85.  -24.   24.   -3.   40.  -13.   -6.  -36.  -20.   31.   20.\n",
            "  -84.   13.   41.   31.   37.  -25.   81. -110.   57.  -10.  -17.   12.\n",
            "  -25.   -8.  -25.   -6.  -14.   11.   -4.   40.   32.    3.  -25.   30.\n",
            "   38.  -13.    5.  -59.  -37.   -5.    9.    7.    8. -179.   43.   38.\n",
            "  -86.  162.    4.   19.  -94.  -78.    7.  -15.  -20.   30.   -4.   46.\n",
            "  -18.  -36.   43.   34.   20.   25.   37.  -71. -102.  -15.  -23.  -55.\n",
            "   33.  130.   34.   10.   44.    6.   -5.  -17.   70.   -6.  -41.  -21.\n",
            "   -4.  -27.   -1.   37.]\n"
          ]
        }
      ],
      "source": [
        "challenge_id = 'myUniqueIdentifier4985349521' # identifier for hidden dataset\n",
        "n = 256 # number of entries in hidden dataset\n",
        "num_queries = 512 # number of queries to be asked\n",
        "\n",
        "queries = np.random.choice([-1,+1], size=(num_queries,n)) # Set of random queries\n",
        "query_results = query(challenge_id, queries)\n",
        "\n",
        "print(query_results)"
      ]
    },
    {
      "cell_type": "markdown",
      "source": [
        "# Baseline reconstruction attack: Guess equals the best query\n",
        "\n",
        "Copy the notebook and replace with your attack. The first submission for a given challenge_id is stored on the server and on the leaderboard: http://rasmuspagh.pythonanywhere.com/leaderboard/?n=256"
      ],
      "metadata": {
        "id": "uiUoCqxtknZj"
      }
    },
    {
      "cell_type": "markdown",
      "source": [
        "**Tip**: to solve a linear program you can use the following import:\n",
        "\n",
        "```\n",
        "from scipy.optimize import linprog\n",
        "```\n",
        "\n"
      ],
      "metadata": {
        "id": "wBzhULS8lfJf"
      }
    },
    {
      "cell_type": "code",
      "source": [
        "best_query_number = np.argmax(query_results)\n",
        "best_query = queries[best_query_number]\n",
        "best_query_result = query(challenge_id, best_query, submit=True)\n",
        "print(f\"\\nReconstruction attack achieves fraction {(1 + best_query_result / n) / 2} correct values\")"
      ],
      "metadata": {
        "colab": {
          "base_uri": "https://localhost:8080/"
        },
        "id": "KNEVYeK5klgu",
        "outputId": "534944e7-71c5-46fe-feaf-2d8a8228ab4e"
      },
      "execution_count": null,
      "outputs": [
        {
          "output_type": "stream",
          "name": "stdout",
          "text": [
            "\n",
            "Reconstruction attack achieves fraction 0.515 correct values\n"
          ]
        }
      ]
    }
  ]
}
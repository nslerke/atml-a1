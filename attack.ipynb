{
  "cells": [
    {
      "cell_type": "markdown",
      "metadata": {},
      "source": [
        "# Imports"
      ]
    },
    {
      "cell_type": "code",
      "execution_count": 1,
      "metadata": {},
      "outputs": [],
      "source": [
        "import numpy as np\n",
        "import requests as rq\n",
        "from scipy.optimize import linprog"
      ]
    },
    {
      "cell_type": "markdown",
      "metadata": {},
      "source": [
        "# Query Function\n",
        "*From template*"
      ]
    },
    {
      "cell_type": "code",
      "execution_count": 2,
      "metadata": {
        "id": "L1Mb8xGZkTPO"
      },
      "outputs": [],
      "source": [
        "# Retrieve answer to challenge for a given query\n",
        "def query(challenge_id, query_vector, submit=False):\n",
        "    # Only alphanumeric challenge_id and vextor entries in {-1,+1} are allowed:\n",
        "    assert(challenge_id.isalnum())\n",
        "    assert(np.max(np.minimum(np.abs(query_vector-1),np.abs(query_vector+1))) == 0)\n",
        "\n",
        "    # if query array is 1d, make it 2d\n",
        "    if query_vector.ndim == 1:\n",
        "        query_vector = query_vector.reshape(1,-1)\n",
        "\n",
        "    payload = {\n",
        "        'challengeid': challenge_id,\n",
        "        'submit': submit,\n",
        "        'query': str(query_vector.tolist())\n",
        "    }\n",
        "    response = rq.post(\"https://rasmuspagh.pythonanywhere.com/query\", data = payload).json()\n",
        "    if submit == False:\n",
        "        return np.array(eval(response['result']))\n",
        "    else:\n",
        "        return response['result']"
      ]
    },
    {
      "cell_type": "markdown",
      "metadata": {
        "id": "mgh9MtPmnyEl"
      },
      "source": [
        "# Config"
      ]
    },
    {
      "cell_type": "code",
      "execution_count": 3,
      "metadata": {},
      "outputs": [],
      "source": [
        "challenge_id = 'prs901third' # identifier for hidden dataset\n",
        "n = 256 # number of entries in hidden dataset\n",
        "num_queries = 2*n # number of queries to be asked"
      ]
    },
    {
      "cell_type": "markdown",
      "metadata": {},
      "source": [
        "# Generating Queries"
      ]
    },
    {
      "cell_type": "code",
      "execution_count": 4,
      "metadata": {
        "colab": {
          "base_uri": "https://localhost:8080/"
        },
        "id": "rACAhWmE9zkq",
        "outputId": "56510295-5822-4d72-a4ff-0fa5f90de0eb"
      },
      "outputs": [],
      "source": [
        "queries = np.random.choice([-1,+1], size=(num_queries,n)) # Set of random queries"
      ]
    },
    {
      "cell_type": "markdown",
      "metadata": {},
      "source": [
        "# Querying"
      ]
    },
    {
      "cell_type": "code",
      "execution_count": 5,
      "metadata": {},
      "outputs": [],
      "source": [
        "query_results = query(challenge_id, queries)"
      ]
    },
    {
      "cell_type": "markdown",
      "metadata": {},
      "source": [
        "# Optimization"
      ]
    },
    {
      "cell_type": "code",
      "execution_count": 6,
      "metadata": {},
      "outputs": [],
      "source": [
        "optimized_result = linprog(\n",
        "    - query_results @ queries,\n",
        "    A_ub=queries,\n",
        "    b_ub=np.abs(query_results),\n",
        "    bounds=(-1,1)\n",
        ")"
      ]
    },
    {
      "cell_type": "markdown",
      "metadata": {},
      "source": [
        "# Formatting Final Guess"
      ]
    },
    {
      "cell_type": "code",
      "execution_count": 7,
      "metadata": {},
      "outputs": [],
      "source": [
        "guess = optimized_result.x\n",
        "guess[guess >= 0] = 1\n",
        "guess[guess < 0] = -1"
      ]
    },
    {
      "cell_type": "markdown",
      "metadata": {},
      "source": [
        "# Submission"
      ]
    },
    {
      "cell_type": "code",
      "execution_count": 8,
      "metadata": {},
      "outputs": [
        {
          "name": "stdout",
          "output_type": "stream",
          "text": [
            "156\n"
          ]
        }
      ],
      "source": [
        "best_query_result = query(challenge_id, guess, submit=True)\n",
        "print(best_query_result)"
      ]
    },
    {
      "cell_type": "markdown",
      "metadata": {},
      "source": [
        "# Result"
      ]
    },
    {
      "cell_type": "code",
      "execution_count": 9,
      "metadata": {},
      "outputs": [
        {
          "name": "stdout",
          "output_type": "stream",
          "text": [
            "\n",
            "Reconstruction attack achieves fraction 0.8 correct values\n"
          ]
        }
      ],
      "source": [
        "print(f\"\\nReconstruction attack achieves fraction {round((1 + best_query_result / n) / 2, 2)} correct values\")"
      ]
    }
  ],
  "metadata": {
    "colab": {
      "provenance": []
    },
    "kernelspec": {
      "display_name": "atml",
      "language": "python",
      "name": "python3"
    },
    "language_info": {
      "codemirror_mode": {
        "name": "ipython",
        "version": 3
      },
      "file_extension": ".py",
      "mimetype": "text/x-python",
      "name": "python",
      "nbconvert_exporter": "python",
      "pygments_lexer": "ipython3",
      "version": "3.10.12"
    }
  },
  "nbformat": 4,
  "nbformat_minor": 0
}
